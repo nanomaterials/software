{
 "cells": [
  {
   "cell_type": "code",
   "execution_count": 68,
   "metadata": {},
   "outputs": [],
   "source": [
    "import sys\n",
    "import glob\n",
    "import serial\n",
    "import time\n",
    "\n",
    "def serial_ports():\n",
    "    '''Определение расположения последовательного порта'''\n",
    "    if sys.platform.startswith('win'):\n",
    "        ports = ['COM%s' % (i + 1) for i in range(256)]\n",
    "    elif sys.platform.startswith('linux') or sys.platform.startswith('cygwin'):\n",
    "        ports = glob.glob('/dev/tty[A-Za-z]*')\n",
    "    elif sys.platform.startswith('darwin'):\n",
    "        ports = glob.glob('/dev/tty.*')\n",
    "    else:\n",
    "        raise EnvironmentError('Данная ОС не поддерживается')\n",
    "\n",
    "    result = []\n",
    "    for port in ports:\n",
    "        try:\n",
    "            s = serial.Serial(port)\n",
    "            s.close()\n",
    "            result.append(port)\n",
    "        except (OSError, serial.SerialException):\n",
    "            pass\n",
    "    return result"
   ]
  },
  {
   "cell_type": "code",
   "execution_count": 87,
   "metadata": {},
   "outputs": [
    {
     "name": "stdout",
     "output_type": "stream",
     "text": [
      "[85, 85, 0, 14, 2, 1, 0, 0, 250, 0, 0, 19, 1, 0, 0, 0, 0, 0, 201]\n",
      "mV\n",
      "DC\n"
     ]
    }
   ],
   "source": [
    "rotor = ['OFF', 'V', 'mV', 'Ohm', 'Diode',\n",
    "         'mA', 'A', 'Cap.', 'Hz', 'Temp.']\n",
    "\n",
    "blue = {'V':  ['AC', 'DC', 'AC+DC'],\n",
    "        'mV': ['AC', 'DC', 'AC+DC'],\n",
    "        'Ohm':['Ohm', 'Low Ohm'],\n",
    "        'Diode':['Diode', 'Beeper'],\n",
    "        'mA':['AC', 'DC', 'AC+DC'],\n",
    "        'A': ['AC', 'DC', 'AC+DC'],\n",
    "        'Cap.':['Cap.'],\n",
    "        'Hz':['Hz', 'Duty Factor'],\n",
    "        'Temp.':['deg.C', 'deg.F']}\n",
    "\n",
    "\n",
    "unit = ['None', 'V', 'mV', 'A',\n",
    "        'mA', 'dB', 'dBm', 'nF',\n",
    "        'uF', 'mF', 'Ohm', 'kOhm',\n",
    "        'MOhm', 'GOhm', '%', 'Hz',\n",
    "        'kHz', 'MHz', '?', '?',\n",
    "        's', 'ms', 'ns', 'V',\n",
    "        'mV', 'A', 'mA', 'Ohm',\n",
    "        'kOhm', 'MOhm']\n",
    "\n",
    "\n",
    "\n",
    "ser = serial.Serial(serial_ports()[0], 9600, serial.EIGHTBITS, serial.PARITY_NONE, serial.STOPBITS_ONE)\n",
    "ser.write(bytearray([85, 85, 0, 0, 170]))\n",
    "\n",
    "byte_string = ser.read(19)\n",
    "print(list(byte_string))\n",
    "ser.close()\n",
    "\n",
    "rotor_code = rotor[byte_string[4]]\n",
    "blue_code = blue[rotor_code][byte_string[5]]\n",
    "range_code = byte_string[7]\n",
    "main_reading = byte_string[8:13]\n",
    "sub_reading = byte_string[13:18]\n",
    "\n",
    "print(rotor_code)\n",
    "print(blue_code)\n"
   ]
  },
  {
   "cell_type": "code",
   "execution_count": 86,
   "metadata": {},
   "outputs": [
    {
     "data": {
      "text/plain": [
       "[129]"
      ]
     },
     "execution_count": 86,
     "metadata": {},
     "output_type": "execute_result"
    }
   ],
   "source": [
    "list(b'\\x81')"
   ]
  },
  {
   "cell_type": "code",
   "execution_count": null,
   "metadata": {},
   "outputs": [],
   "source": []
  }
 ],
 "metadata": {
  "kernelspec": {
   "display_name": "Python 3",
   "language": "python",
   "name": "python3"
  },
  "language_info": {
   "codemirror_mode": {
    "name": "ipython",
    "version": 3
   },
   "file_extension": ".py",
   "mimetype": "text/x-python",
   "name": "python",
   "nbconvert_exporter": "python",
   "pygments_lexer": "ipython3",
   "version": "3.5.2"
  }
 },
 "nbformat": 4,
 "nbformat_minor": 2
}
