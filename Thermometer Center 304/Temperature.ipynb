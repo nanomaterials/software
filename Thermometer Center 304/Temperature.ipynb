{
 "cells": [
  {
   "cell_type": "code",
   "execution_count": 75,
   "metadata": {},
   "outputs": [
    {
     "name": "stdout",
     "output_type": "stream",
     "text": [
      "Прибор не подключен\n",
      "Прибор не подключен\n",
      "Прибор не подключен\n",
      "Прибор не подключен\n",
      "Прибор не подключен\n",
      "Прибор не подключен\n",
      "Прибор не подключен\n",
      "Прибор не подключен\n",
      "Прибор не подключен\n",
      "Прибор не подключен\n",
      "Прибор не подключен\n",
      "Прибор не подключен\n",
      "Прибор не подключен\n",
      "Прибор не подключен\n",
      "Прибор не подключен\n",
      "Прибор не подключен\n",
      "Прибор не подключен\n",
      "Прибор не подключен\n",
      "Прибор не подключен\n",
      "Прибор не подключен\n",
      "Прибор не подключен\n",
      "Прибор не подключен\n",
      "Прибор не подключен\n",
      "Прибор не подключен\n",
      "Прибор не подключен\n",
      "Прибор не подключен\n",
      "Прибор не подключен\n",
      "Прибор не подключен\n",
      "Прибор не подключен\n",
      "Прибор не подключен\n",
      "Прибор не подключен\n",
      "Прибор не подключен\n",
      "Прибор не подключен\n"
     ]
    },
    {
     "ename": "IndexError",
     "evalue": "list index out of range",
     "output_type": "error",
     "traceback": [
      "\u001b[0;31m---------------------------------------------------------------------------\u001b[0m",
      "\u001b[0;31mIndexError\u001b[0m                                Traceback (most recent call last)",
      "\u001b[0;32m<ipython-input-75-7556b325065e>\u001b[0m in \u001b[0;36m<module>\u001b[0;34m()\u001b[0m\n\u001b[1;32m     54\u001b[0m             \u001b[0mf\u001b[0m\u001b[0;34m.\u001b[0m\u001b[0mclose\u001b[0m\u001b[0;34m(\u001b[0m\u001b[0;34m)\u001b[0m\u001b[0;34m\u001b[0m\u001b[0m\n\u001b[1;32m     55\u001b[0m \u001b[0;34m\u001b[0m\u001b[0m\n\u001b[0;32m---> 56\u001b[0;31m \u001b[0mTemperature_loop\u001b[0m\u001b[0;34m(\u001b[0m\u001b[0;34m)\u001b[0m\u001b[0;34m\u001b[0m\u001b[0m\n\u001b[0m",
      "\u001b[0;32m<ipython-input-75-7556b325065e>\u001b[0m in \u001b[0;36mTemperature_loop\u001b[0;34m()\u001b[0m\n\u001b[1;32m     36\u001b[0m \u001b[0;32mdef\u001b[0m \u001b[0mTemperature_loop\u001b[0m\u001b[0;34m(\u001b[0m\u001b[0;34m)\u001b[0m\u001b[0;34m:\u001b[0m\u001b[0;34m\u001b[0m\u001b[0m\n\u001b[1;32m     37\u001b[0m     \u001b[0;34m'''Непрерывное считывание температуры'''\u001b[0m\u001b[0;34m\u001b[0m\u001b[0m\n\u001b[0;32m---> 38\u001b[0;31m     \u001b[0;32mwith\u001b[0m \u001b[0mserial\u001b[0m\u001b[0;34m.\u001b[0m\u001b[0mSerial\u001b[0m\u001b[0;34m(\u001b[0m\u001b[0mserial_ports\u001b[0m\u001b[0;34m(\u001b[0m\u001b[0;34m)\u001b[0m\u001b[0;34m[\u001b[0m\u001b[0;36m0\u001b[0m\u001b[0;34m]\u001b[0m\u001b[0;34m)\u001b[0m \u001b[0;32mas\u001b[0m \u001b[0mser\u001b[0m\u001b[0;34m:\u001b[0m\u001b[0;34m\u001b[0m\u001b[0m\n\u001b[0m\u001b[1;32m     39\u001b[0m         \u001b[0mser\u001b[0m\u001b[0;34m.\u001b[0m\u001b[0mbaudrate\u001b[0m \u001b[0;34m=\u001b[0m \u001b[0;36m9600\u001b[0m\u001b[0;34m\u001b[0m\u001b[0m\n\u001b[1;32m     40\u001b[0m         \u001b[0;32mtry\u001b[0m\u001b[0;34m:\u001b[0m\u001b[0;34m\u001b[0m\u001b[0m\n",
      "\u001b[0;31mIndexError\u001b[0m: list index out of range"
     ]
    }
   ],
   "source": [
    "import sys\n",
    "import glob\n",
    "import serial\n",
    "import time\n",
    "\n",
    "def serial_ports():\n",
    "    '''Определение расположения последовательного порта'''\n",
    "    if sys.platform.startswith('win'):\n",
    "        ports = ['COM%s' % (i + 1) for i in range(256)]\n",
    "    elif sys.platform.startswith('linux') or sys.platform.startswith('cygwin'):\n",
    "        ports = glob.glob('/dev/tty[A-Za-z]*')\n",
    "    elif sys.platform.startswith('darwin'):\n",
    "        ports = glob.glob('/dev/tty.*')\n",
    "    else:\n",
    "        raise EnvironmentError('Данная ОС не поддерживается')\n",
    "\n",
    "    result = []\n",
    "    for port in ports:\n",
    "        try:\n",
    "            s = serial.Serial(port)\n",
    "            s.close()\n",
    "            result.append(port)\n",
    "        except (OSError, serial.SerialException):\n",
    "            print('Прибор не подключен')\n",
    "    return result\n",
    "\n",
    "def T(b_string):\n",
    "    '''Определение температуры на i-й термопаре'''\n",
    "    temperatures = []\n",
    "    for i in range(1, 5):\n",
    "        t = (b_string[i*2+5]*255 + b_string[i*2+6])/10.0\n",
    "        if b_string[i*2+5] != 127:\n",
    "            temperatures.append(t)\n",
    "    return temperatures\n",
    "\n",
    "def Temperature_loop():\n",
    "    '''Непрерывное считывание температуры'''\n",
    "    with serial.Serial(serial_ports()[0]) as ser:\n",
    "        ser.baudrate = 9600\n",
    "        try:\n",
    "            file_name = time.strftime(\"%H-%M-%S_%d-%m-%y.tsv\", time.gmtime())\n",
    "            with open(file_name, 'w') as f:\n",
    "                while True:\n",
    "                    ser.write(b'A')\n",
    "                    byte_string = ser.read(45)\n",
    "                    time_sec = time.time()\n",
    "                    line = '{0:.1f}\\t'.format(time_sec)\n",
    "                    line += '\\t'.join(['{0:5.1f}'.format(t) for t in T(byte_string)])\n",
    "                    print(line)\n",
    "                    f.write(line+'\\n')\n",
    "        except KeyboardInterrupt:\n",
    "            print('Измерение закончено. Данные записаны в файл {}'.format(file_name))\n",
    "            ser.close()\n",
    "            f.close()\n",
    "        \n",
    "Temperature_loop()"
   ]
  },
  {
   "cell_type": "code",
   "execution_count": 3,
   "metadata": {},
   "outputs": [
    {
     "data": {
      "image/png": "[encoded data removed]",
      "text/plain": [
       "<matplotlib.figure.Figure at 0x7fd314e31390>"
      ]
     },
     "metadata": {},
     "output_type": "display_data"
    }
   ],
   "source": [
    "import matplotlib.pyplot as plt\n",
    "import numpy as np\n",
    "\n",
    "time_temperature = np.genfromtxt('00-54-17_30-12-18.tsv', delimiter='\\t')\n",
    "\n",
    "# Отсечение идентичных значений в начальный момент времени\n",
    "logic_array = np.abs(time_temperature[:, 1] - time_temperature[0, 1]) > 0\n",
    "time_temperature = time_temperature[np.argmax(logic_array)-1:, :]\n",
    "\n",
    "time = time_temperature[:, 0] - time_temperature[0, 0]\n",
    "temperature = time_temperature[:, 1]\n",
    "plt.xlabel('$t$, c')\n",
    "plt.ylabel('$T, ^\\circ$C')\n",
    "plt.plot(time, temperature, '.')\n",
    "plt.show()"
   ]
  },
  {
   "cell_type": "markdown",
   "metadata": {},
   "source": [
    "Опишем полученную зависимость при помощи закона Ньютона-Рихмана. Этот закон описывает процесс теплопередачи на границе тел через коэффициент теплоотдачи $\\alpha$ [Вт/(м$^2$ K)]. В общем случае коффициент зависит от множества составляющих и определяется экспериментально.\n",
    "\n",
    "Количество теплоты, отданное через площадку на границе раздела тел площадью $S$ за время $t$, пропорционально разности температур этих тел $\\Delta T$ (если считать, что она остаётся за это время постоянной):\n",
    "\n",
    "$$Q = \\alpha t S \\Delta T$$\n",
    "\n",
    "Если температура внутри тела однородна, то уравнение охлаждения записывается в виде:\n",
    "\n",
    "$$\\dfrac{\\partial T}{\\partial t} = k (T_2 - T_1).$$\n",
    "\n",
    "Здесь коэффициент $k = \\dfrac{\\alpha S}{C} $, где $C$ — теплоемкость тела. Из этого уравнения следует:\n",
    "\n",
    "$$T(t) = T_2 + e^{-kt}(T_1 - T_2)$$"
   ]
  },
  {
   "cell_type": "code",
   "execution_count": 76,
   "metadata": {},
   "outputs": [],
   "source": [
    "def NR(t, T1, T2, k):\n",
    "     return T2 + np.exp(-k*t)*(T1 - T2)"
   ]
  },
  {
   "cell_type": "code",
   "execution_count": 77,
   "metadata": {},
   "outputs": [],
   "source": [
    "# Разделим зависимость на два участка:\n",
    "\n",
    "border_time_index = -np.argmax(temperature[::-1])\n",
    "tt_raise = time_temperature[:border_time_index, :]\n",
    "tt_fall  = time_temperature[border_time_index:, :]"
   ]
  },
  {
   "cell_type": "code",
   "execution_count": 81,
   "metadata": {},
   "outputs": [
    {
     "data": {
      "image/png": "[encoded data removed]",
      "text/plain": [
       "<matplotlib.figure.Figure at 0x7fd30f70c438>"
      ]
     },
     "metadata": {},
     "output_type": "display_data"
    }
   ],
   "source": [
    "# Участок роста температуры\n",
    "\n",
    "time_raise = tt_raise[:, 0] - time_temperature[0, 0]\n",
    "temperature_raise = tt_raise[:, 1] + 273.15\n",
    "\n",
    "plt.xlabel('$t$, c')\n",
    "plt.ylabel('$T$, K')\n",
    "plt.plot(time_raise, temperature_raise, '.')\n",
    "plt.plot(time_raise, NR(time_raise, temperature_raise.min(), temperature_raise.max(), 0.125))\n",
    "plt.show()"
   ]
  },
  {
   "cell_type": "code",
   "execution_count": 80,
   "metadata": {},
   "outputs": [
    {
     "data": {
      "image/png": "[encoded data removed]",
      "text/plain": [
       "<matplotlib.figure.Figure at 0x7fd30f950400>"
      ]
     },
     "metadata": {},
     "output_type": "display_data"
    }
   ],
   "source": [
    "# Участок спада\n",
    "\n",
    "time_fall = tt_fall[:, 0] -  tt_fall[0, 0]\n",
    "temperature_fall = tt_fall[:, 1] + 273.15\n",
    "plt.xlabel('$t$, c')\n",
    "plt.ylabel('$T$, K')\n",
    "plt.plot(time_fall, temperature_fall, '.')\n",
    "plt.plot(time_fall, NR(time_fall, temperature_fall.max(), temperature_fall.min(), 0.0125))\n",
    "plt.show()"
   ]
  },
  {
   "cell_type": "markdown",
   "metadata": {},
   "source": [
    "Сравним $\\dfrac{\\alpha}{C}$:\n",
    "\n",
    "кожа:   0.5/4180 = 1.12e-04\n",
    "воздух: 0.0259/1007 = 2.57e-05\n",
    "\n",
    "Разница в 4.35, что по порядку соотносится с ве"
   ]
  },
  {
   "cell_type": "code",
   "execution_count": 85,
   "metadata": {},
   "outputs": [
    {
     "data": {
      "text/plain": [
       "4.357976653696498"
      ]
     },
     "execution_count": 85,
     "metadata": {},
     "output_type": "execute_result"
    }
   ],
   "source": [
    "1.12e-04/2.57e-05"
   ]
  },
  {
   "cell_type": "code",
   "execution_count": null,
   "metadata": {},
   "outputs": [],
   "source": []
  }
 ],
 "metadata": {
  "kernelspec": {
   "display_name": "Python 3",
   "language": "python",
   "name": "python3"
  },
  "language_info": {
   "codemirror_mode": {
    "name": "ipython",
    "version": 3
   },
   "file_extension": ".py",
   "mimetype": "text/x-python",
   "name": "python",
   "nbconvert_exporter": "python",
   "pygments_lexer": "ipython3",
   "version": "3.5.2"
  }
 },
 "nbformat": 4,
 "nbformat_minor": 2
}
