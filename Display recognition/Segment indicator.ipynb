{
 "cells": [
  {
   "cell_type": "markdown",
   "metadata": {},
   "source": [
    "# Распознавание изображений с данными семисегментных индикаторов"
   ]
  },
  {
   "cell_type": "code",
   "execution_count": 259,
   "metadata": {},
   "outputs": [],
   "source": [
    "import imutils  # pip install imutils\n",
    "from imutils.perspective import four_point_transform\n",
    "from imutils import contours\n",
    "\n",
    "import cv2 as cv     # pip install opencv-python\n",
    "from matplotlib import pyplot as plt\n",
    "\n",
    "# Описание включения сегментов для разных цифр\n",
    "# порядок сверху вниз, слева направо\n",
    "DIGITS_LOOKUP = {\n",
    "    (1, 1, 1, 0, 1, 1, 1): 0,\n",
    "    (0, 0, 1, 0, 0, 1, 0): 1,\n",
    "    (1, 0, 1, 1, 1, 1, 0): 2,\n",
    "    (1, 0, 1, 1, 0, 1, 1): 3,\n",
    "    (0, 1, 1, 1, 0, 1, 0): 4,\n",
    "    (1, 1, 0, 1, 0, 1, 1): 5,\n",
    "    (1, 1, 0, 1, 1, 1, 1): 6,\n",
    "    (1, 0, 1, 0, 0, 1, 0): 7,\n",
    "    (1, 1, 1, 1, 1, 1, 1): 8,\n",
    "    (1, 1, 1, 1, 0, 1, 1): 9\n",
    "}"
   ]
  },
  {
   "cell_type": "code",
   "execution_count": 260,
   "metadata": {},
   "outputs": [
    {
     "data": {
      "text/plain": [
       "True"
      ]
     },
     "execution_count": 260,
     "metadata": {},
     "output_type": "execute_result"
    }
   ],
   "source": [
    "# Для начала считаем имеющееся изображение весов\n",
    "image = cv.imread(\"shot.jpg\")\n",
    "image = imutils.resize(image, height=400)\n",
    "\n",
    "# Перевод в оттенки серого\n",
    "grey = cv.cvtColor(image, cv.COLOR_BGR2GRAY)\n",
    "cv.imwrite(\"grey_shot.jpg\", grey)\n",
    "\n",
    "# Гаусово размытие с ядром 5х5 для удаления мелкого шума\n",
    "blur = cv.GaussianBlur(grey, (5, 5), 0)\n",
    "cv.imwrite(\"blur_shot.jpg\", blur)\n",
    "\n",
    "# Определение границ при помощи алгоритма Кэнни\n",
    "edge = cv.Canny(blur, 20, 100,  1000)\n",
    "cv.imwrite(\"edge_shot.jpg\", edge)"
   ]
  },
  {
   "cell_type": "markdown",
   "metadata": {},
   "source": [
    "В результате на изображении получаем четко очерченные границы дисплея."
   ]
  },
  {
   "cell_type": "code",
   "execution_count": 264,
   "metadata": {},
   "outputs": [],
   "source": [
    "# Найдем контуры и выделим ЖК-дисплей\n",
    "\n",
    "# Создаем карту границ\n",
    "cnts = cv2.findContours(edge.copy(), cv2.RETR_EXTERNAL, cv2.CHAIN_APPROX_SIMPLE)\n",
    "cnts = imutils.grab_contours(cnts)\n",
    "# Сортируем границы по внутренней площади ими ограничиваемой\n",
    "cnts = sorted(cnts, key=cv2.contourArea, reverse=True)\n",
    "\n",
    "displayCnt = None\n",
    "for c in cnts:\n",
    "    # Аппроксимируем контуры\n",
    "    peri = cv2.arcLength(c, True)\n",
    "    approx = cv2.approxPolyDP(c, 0.02 * peri, True)\n",
    " \n",
    "    # Если контур содержит четыре вершины, \n",
    "    # предполагаем, что это искомый прямоугольник ЖК-индикатора\n",
    "    if len(approx) == 4:\n",
    "        displayCnt = approx\n",
    "        break"
   ]
  },
  {
   "cell_type": "code",
   "execution_count": 265,
   "metadata": {},
   "outputs": [
    {
     "data": {
      "text/plain": [
       "True"
      ]
     },
     "execution_count": 265,
     "metadata": {},
     "output_type": "execute_result"
    }
   ],
   "source": [
    "LCD = four_point_transform(grey, displayCnt.reshape(4, 2))\n",
    "cv2.imwrite(\"LCD.jpg\", LCD)"
   ]
  },
  {
   "cell_type": "markdown",
   "metadata": {},
   "source": [
    "Теперь необходимо на изображении ЖК-дисплея выделить непосредственно сами цифры."
   ]
  },
  {
   "cell_type": "code",
   "execution_count": 266,
   "metadata": {},
   "outputs": [
    {
     "data": {
      "text/plain": [
       "True"
      ]
     },
     "execution_count": 266,
     "metadata": {},
     "output_type": "execute_result"
    }
   ],
   "source": [
    "thresh = cv2.threshold(LCD, 65, 255, cv2.THRESH_BINARY)[1]\n",
    "kernel = cv2.getStructuringElement(cv2.MORPH_ELLIPSE, (1, 15))\n",
    "thresh = cv2.morphologyEx(thresh, cv2.MORPH_OPEN, kernel)\n",
    "cv2.imwrite(\"thresh.jpg\", thresh)"
   ]
  },
  {
   "cell_type": "code",
   "execution_count": 275,
   "metadata": {},
   "outputs": [],
   "source": [
    "from PIL import Image\n",
    "from pytesseract import image_to_string"
   ]
  },
  {
   "cell_type": "code",
   "execution_count": 279,
   "metadata": {},
   "outputs": [
    {
     "name": "stdout",
     "output_type": "stream",
     "text": [
      "149.1\n"
     ]
    }
   ],
   "source": [
    "print(image_to_string(Image.open(\"thresh.jpg\")))"
   ]
  },
  {
   "cell_type": "code",
   "execution_count": null,
   "metadata": {},
   "outputs": [],
   "source": []
  }
 ],
 "metadata": {
  "kernelspec": {
   "display_name": "Python 3",
   "language": "python",
   "name": "python3"
  },
  "language_info": {
   "codemirror_mode": {
    "name": "ipython",
    "version": 3
   },
   "file_extension": ".py",
   "mimetype": "text/x-python",
   "name": "python",
   "nbconvert_exporter": "python",
   "pygments_lexer": "ipython3",
   "version": "3.5.2"
  }
 },
 "nbformat": 4,
 "nbformat_minor": 2
}
