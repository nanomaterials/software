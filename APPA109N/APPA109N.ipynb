{
 "cells": [
  {
   "cell_type": "code",
   "execution_count": 266,
   "metadata": {},
   "outputs": [],
   "source": [
    "import sys\n",
    "import glob\n",
    "import serial\n",
    "import time\n",
    "\n",
    "def serial_ports():\n",
    "    '''Определение расположения последовательного порта'''\n",
    "    if sys.platform.startswith('win'):\n",
    "        ports = ['COM%s' % (i + 1) for i in range(256)]\n",
    "    elif sys.platform.startswith('linux') or sys.platform.startswith('cygwin'):\n",
    "        ports = glob.glob('/dev/tty[A-Za-z]*')\n",
    "    elif sys.platform.startswith('darwin'):\n",
    "        ports = glob.glob('/dev/tty.*')\n",
    "    else:\n",
    "        raise EnvironmentError('Данная ОС не поддерживается')\n",
    "\n",
    "    result = []\n",
    "    for port in ports:\n",
    "        try:\n",
    "            s = serial.Serial(port)\n",
    "            s.close()\n",
    "            result.append(port)\n",
    "        except (OSError, serial.SerialException):\n",
    "            pass\n",
    "    return result"
   ]
  },
  {
   "cell_type": "code",
   "execution_count": 267,
   "metadata": {},
   "outputs": [
    {
     "name": "stdout",
     "output_type": "stream",
     "text": [
      "Regime is DC.\n",
      "The main measurement is -0.025 mV. \n",
      "The sub measurement is 0.000 None.\n"
     ]
    }
   ],
   "source": [
    "rotor = ['OFF', 'V', 'mV', 'Ohm', 'Diode',\n",
    "         'mA', 'A', 'Cap.', 'Hz', 'Temp.']\n",
    "\n",
    "blue = {'V':  ['AC', 'DC', 'AC+DC'],\n",
    "        'mV': ['AC', 'DC', 'AC+DC'],\n",
    "        'Ohm':['Ohm', 'Low Ohm'],\n",
    "        'Diode':['Diode', 'Beeper'],\n",
    "        'mA':['AC', 'DC', 'AC+DC'],\n",
    "        'A': ['AC', 'DC', 'AC+DC'],\n",
    "        'Cap.':['Cap.'],\n",
    "        'Hz':['Hz', 'Duty Factor'],\n",
    "        'Temp.':['deg.C', 'deg.F']}\n",
    "\n",
    "\n",
    "unit = ['None', 'V', 'mV', 'A',\n",
    "        'mA', 'dB', 'dBm', 'nF',\n",
    "        'uF', 'mF', 'Ohm', 'kOhm',\n",
    "        'MOhm', 'GOhm', '%', 'Hz',\n",
    "        'kHz', 'MHz', 'deg.C', 'deg.F',\n",
    "        's', 'ms', 'ns', 'V',\n",
    "        'mV', 'A', 'mA', 'Ohm',\n",
    "        'kOhm', 'MOhm']\n",
    "\n",
    "\n",
    "def number_and_dimension(byte_string, i):\n",
    "    n = int.from_bytes(byte_string[i:i+3], byteorder='little', signed=True)\n",
    "    status = '{0:b}'.format(byte_string[i+3])\n",
    "    decimal_point = int(status[-3:], 2)\n",
    "    try:\n",
    "        unit_code = int(status[:-3], 2)\n",
    "        dimension = unit[unit_code]\n",
    "    except ValueError:\n",
    "        dimension = unit[0]\n",
    "    n = n*0.1**decimal_point\n",
    "    return n, dimension\n",
    "\n",
    "def measurement(ser):\n",
    "    ser.write(bytearray([85, 85, 0, 0, 170]))\n",
    "    byte_string = ser.read(19)\n",
    "    rotor_code = rotor[byte_string[4]]\n",
    "    blue_code = blue[rotor_code][byte_string[5]]\n",
    "    range_code = byte_string[7]\n",
    "    main_n, main_d = number_and_dimension(byte_string, 8)\n",
    "    sub_n, sub_d = number_and_dimension(byte_string, 13)\n",
    "    return blue_code, main_n, main_d, sub_n, sub_d\n",
    "\n",
    "ser = serial.Serial(serial_ports()[0], 9600, serial.EIGHTBITS, serial.PARITY_NONE, serial.STOPBITS_ONE)\n",
    "blue_code, main_n, main_d, sub_n, sub_d = measurement(ser)\n",
    "print('Regime is {}.'.format(blue_code))\n",
    "print('The main measurement is {:5.3f} {}. '.format(main_n, main_d))\n",
    "print('The sub measurement is {:5.3f} {}.'.format(sub_n, sub_d))\n",
    "ser.close()"
   ]
  },
  {
   "cell_type": "code",
   "execution_count": 268,
   "metadata": {
    "scrolled": false
   },
   "outputs": [
    {
     "name": "stdout",
     "output_type": "stream",
     "text": [
      "Измерение закончено. Данные записаны в файл 17-19-13_01-01-19.tsv\n"
     ]
    }
   ],
   "source": [
    "# Пример непрерывного измерения напряжения\n",
    "\n",
    "def continious_measurement():\n",
    "    '''Непрерывное измерение параметра с сохранением в файл'''\n",
    "    ser = serial.Serial(serial_ports()[0], 9600, serial.EIGHTBITS, serial.PARITY_NONE, serial.STOPBITS_ONE)\n",
    "    try:\n",
    "        file_name = time.strftime(\"%H-%M-%S_%d-%m-%y.tsv\", time.gmtime())\n",
    "        with open(file_name, 'w') as f:\n",
    "            while True:\n",
    "                blue_code, main_n, main_d, sub_n, sub_d = measurement(ser)\n",
    "                time_sec = time.time()\n",
    "                line = '{0:.4f}\\t{1:4.3f}\\n'.format(time_sec, main_n)\n",
    "                f.write(line)\n",
    "    except KeyboardInterrupt:\n",
    "        print('Измерение закончено. Данные записаны в файл {}'.format(file_name))\n",
    "        ser.close()\n",
    "        f.close()\n",
    "\n",
    "continious_measurement()"
   ]
  },
  {
   "cell_type": "code",
   "execution_count": 270,
   "metadata": {},
   "outputs": [
    {
     "data": {
      "image/png": "[encoded data removed]",
      "text/plain": [
       "<matplotlib.figure.Figure at 0x7fbce6a05a90>"
      ]
     },
     "metadata": {},
     "output_type": "display_data"
    }
   ],
   "source": [
    "import matplotlib.pyplot as plt\n",
    "import numpy as np\n",
    "\n",
    "time_temperature = np.genfromtxt('17-17-39_01-01-19.tsv', delimiter='\\t')\n",
    "\n",
    "# Отсечение идентичных значений в начальный момент времени\n",
    "logic_array = np.abs(time_temperature[:, 1] - time_temperature[0, 1]) > 0\n",
    "time_temperature = time_temperature[np.argmax(logic_array)-1:, :]\n",
    "\n",
    "time = time_temperature[:, 0] - time_temperature[0, 0]\n",
    "temperature = time_temperature[:, 1]\n",
    "plt.xlabel('$t$, c')\n",
    "plt.ylabel('$V$, мВ')\n",
    "plt.plot(time, temperature, '.')\n",
    "plt.show()"
   ]
  },
  {
   "cell_type": "code",
   "execution_count": null,
   "metadata": {},
   "outputs": [],
   "source": []
  }
 ],
 "metadata": {
  "kernelspec": {
   "display_name": "Python 3",
   "language": "python",
   "name": "python3"
  },
  "language_info": {
   "codemirror_mode": {
    "name": "ipython",
    "version": 3
   },
   "file_extension": ".py",
   "mimetype": "text/x-python",
   "name": "python",
   "nbconvert_exporter": "python",
   "pygments_lexer": "ipython3",
   "version": "3.5.2"
  }
 },
 "nbformat": 4,
 "nbformat_minor": 2
}
